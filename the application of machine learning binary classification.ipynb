{
 "cells": [
  {
   "cell_type": "markdown",
   "metadata": {},
   "source": [
    "机器学习(machine learning)是从数据中提取知识。它是统计学，人工智能和计算机科学交叉的研究领域，也被称为预测分析(predictive analytics)或统计学习(statistical learning)。"
   ]
  },
  {
   "cell_type": "markdown",
   "metadata": {},
   "source": [
    "Machine learning is a subject to extract the knowledge from data, which is based on statistics, artificial intelligence and information technology. It is also called predictive analytics or statistical learning."
   ]
  },
  {
   "cell_type": "markdown",
   "metadata": {},
   "source": [
    "# 机器学习主要分为监督学习(supervised learning)和无监督学习(unsupervised learning)。"
   ]
  },
  {
   "cell_type": "markdown",
   "metadata": {},
   "source": [
    "# Machine learning could be divided into supervised learning and unsupervised learning."
   ]
  },
  {
   "cell_type": "markdown",
   "metadata": {},
   "source": [
    "监督学习过程中，用户将成对的输入和预期输出提供给算法，算法会找到一种方法，根据给定输入给出预期输出，尤其是在没有人类帮助的情况下，给定前所未见的输入，算法也能够给出相应的输出。举例：检测信用卡交易中的诈骗行为。这里的输入是信用卡的交易记录，输出是该交易记录是否可能为诈骗。"
   ]
  },
  {
   "cell_type": "markdown",
   "metadata": {},
   "source": [
    "During the procedure of supervised learning, the user provides paired input and output to the algorithm. The algorithm will discover a method to produce the output according to the input. For instance, identifying the credit card transaction fraud，the input is the record of credit card transaction, the output is whether the deal is fraud or not. "
   ]
  },
  {
   "cell_type": "markdown",
   "metadata": {},
   "source": [
    "监督学习主要分为两种，分类(classification)和回归(regression)。分类问题的输出是类别标签，比如检测信用卡交易中的诈骗行为，输出是个二分类，该笔交易是诈骗或该笔交易不是诈骗。回归问题的输出是个连续值，比如根据教育水平，年龄，工作行业来预测一个人的年收入，这里的输出年收入就是个连续值。"
   ]
  },
  {
   "cell_type": "markdown",
   "metadata": {},
   "source": [
    "Supervised learning has two categories, classification and regression. The output of classification is class label. In the example of credit card transaction fraud identification, the output is a binary classification fraud or not fraud. The output of regression is continuous value. For example, forecasting the annual income of a person based on education, age and industry, the output annual income is a continuous value."
   ]
  },
  {
   "cell_type": "markdown",
   "metadata": {},
   "source": [
    "无监督学习过程中，只有输入数据是已知的，没有为算法提供输出数据。举例：确定一系列博客文章的主题。如果你有很多文本数据，想对其进行汇总，并找到其中共同的主题。事先你可能并不知道有哪些主题，有多少个主题，所以输出是未知的。"
   ]
  },
  {
   "cell_type": "markdown",
   "metadata": {},
   "source": [
    "For unsupervised learning, only the input data is known, the output is not provided to the algorithm. For instance, ensuring the topic of a series articles, the number and category of theme is uncertainty. As a result, the output is unknown to the algorithm."
   ]
  },
  {
   "cell_type": "markdown",
   "metadata": {},
   "source": [
    "# 例：正常损失类贷款分类"
   ]
  },
  {
   "cell_type": "markdown",
   "metadata": {},
   "source": [
    "EG: the classification of performing and non-performing loan  "
   ]
  },
  {
   "cell_type": "markdown",
   "metadata": {},
   "source": [
    "The procedure could be split into six parts."
   ]
  },
  {
   "cell_type": "markdown",
   "metadata": {},
   "source": [
    "1.产生模拟数据(production of simulation data)"
   ]
  },
  {
   "cell_type": "markdown",
   "metadata": {},
   "source": [
    "这个例子一共有1797个样本（代表1797家公司），每个样本包含64个输入特征（公司当年利润率，公司去年利润率，公司所处行业，公司所处地区等等）和二分类输出标签（正常或损失类贷款）。我们将1797个样本分为两部分训练集和测试集，训练集的特征和标签用来训练模型，测试集的特征输入训练模型预测输出标签，用预测的输出标签和实际的输出标签来评估训练模型的预测能力。"
   ]
  },
  {
   "cell_type": "markdown",
   "metadata": {},
   "source": [
    "The data includes 1797 samples and each sample contains 64 input features and binary classification output label. The model will learn to make a classification whether the loan is performing or not depending on 64 features. This is binary classification supervised learning. The whole dataset is divided into train set and test set. The input feature and output label of train set can be used for model training. The test set could be utilized for evaluating the generalization performance of the trained model."
   ]
  },
  {
   "cell_type": "markdown",
   "metadata": {},
   "source": [
    "2.训练集测试集划分(split of data set)"
   ]
  },
  {
   "cell_type": "markdown",
   "metadata": {},
   "source": [
    "我们不能将用于构建模型的数据用于评估模型，因为模型会记住整个构建模型用的数据集。我们要用新数据来评估模型的泛化性能。所以我们要将原始数据分为训练集(默认0.75)和测试集(默认0.25)两部分，训练集用于模型训练，测试集用于测试模型泛化性能。"
   ]
  },
  {
   "cell_type": "markdown",
   "metadata": {},
   "source": [
    "We can not utilize the data constructing the model to evaluate the model, because the model will remember the data used for establishing the model. New data is necessary to estimate generalization performance of the model. We need to split original data into two parts, training set is used for training the model and test set is utilized to assess the model."
   ]
  },
  {
   "cell_type": "markdown",
   "metadata": {},
   "source": [
    "3.训练，评估模型（train and evaluate the model）"
   ]
  },
  {
   "cell_type": "markdown",
   "metadata": {},
   "source": [
    "我们使用训练集数据在二种算法（决策树，逻辑回归）上进行模型训练，然后使用测试集的数据进行模型预测能力评估。"
   ]
  },
  {
   "cell_type": "markdown",
   "metadata": {},
   "source": [
    "The training data set is used for training the model based on the algorithm of Logistic Regression, and then the trained model predicts the output label based on the input feature of test data set. The prediction accuracy is the indicator of generalization performance of the trained model. "
   ]
  },
  {
   "cell_type": "markdown",
   "metadata": {},
   "source": [
    "4.参数寻优(Grid research)"
   ]
  },
  {
   "cell_type": "markdown",
   "metadata": {},
   "source": [
    "接下来我们将通过网格参数寻优，提高逻辑回归算法准确率。"
   ]
  },
  {
   "cell_type": "markdown",
   "metadata": {},
   "source": [
    "We tried to optimized the prediction accuracy of the trained model depending on the method of grid research."
   ]
  },
  {
   "cell_type": "markdown",
   "metadata": {},
   "source": [
    "5.利用混淆矩阵，细分预测结果(analysis of prediction result)"
   ]
  },
  {
   "cell_type": "markdown",
   "metadata": {},
   "source": [
    "通过参数寻优，我们提高了LogisticRegression算法准确率。但在实际业务中，我们更关心损失类贷款是否被准确预测。在二分类问题中，我们通常将两种结果称为正类(positive class)和反类(negative class)，正类是我们要寻找的类。在这里损失类贷款是我们要寻找的类，称为正类，非损失类贷款为反类。对于二分类问题的评估结果，一种最全面地表示方法是使用混淆矩阵。输出的是个2*2的数组，其中行对应于真实的类别，列对应于预测的类别。"
   ]
  },
  {
   "cell_type": "markdown",
   "metadata": {},
   "source": [
    "We raise the accuracy of the logistic regression through grid search. In production environment, we focus to non-performing loan that could be predicted correctly. In a binary classification question, two output results were named as positive class and negative class, the positive class is the outcome we want to be recognized with no fault. In this case, the non-performing loan is the positive class. The confusion matrix is a comprehensive description to the result of binary classification question. The output of confusion matrix is an array of 2*2, the row of it means actual class and the column of it represents predicted category."
   ]
  },
  {
   "cell_type": "markdown",
   "metadata": {},
   "source": [
    "6.调整决策阀值，平衡准确率和召回率(balance of precision ratio and recall ratio)"
   ]
  },
  {
   "cell_type": "markdown",
   "metadata": {},
   "source": [
    "通过调整做出分类决策的阀值，我们可以使得测试集中的正类全部被正确预测，但假正类会大幅增加，也就是非损失类贷款被预测成了损失类贷款，这将会计提过多不必要的贷款损失准备，对银行资本的运用效率带来损失。为了平衡预测结果中假反类和假正类的数量，先引入两个概念，准确率和召回率。准确率(precision)度量的是被预测为正类的样本中有多少是真正的正类，precision=TP/(TP+FP)。召回率(recall)度量的是正类样本中有多少被预测为正类,recall=TP/(TP+FN)。"
   ]
  },
  {
   "cell_type": "markdown",
   "metadata": {},
   "source": [
    "By means of adjusting the threshold, all positive classes in the test set could be predicted correctly. However, the false positive(FP) will increased dramatically, which means performing loan was recognized as non-performing loan falsely and withdraw unnecessary loan loss reserve. In order to balancing the quantity of false negative and false positive, two concepts were introduced, precision and recall. Precision is the ratio of true positive divide by predicted positive. Recall is the ratio of true positive divide by positive class in test set."
   ]
  },
  {
   "cell_type": "markdown",
   "metadata": {},
   "source": [
    "# 1.产生模拟数据(production of simulation data)"
   ]
  },
  {
   "cell_type": "markdown",
   "metadata": {},
   "source": [
    "模拟数据：1797个样本sample（代表1797家公司），每个样本包含64个特征feature（公司当年利润率，公司去年利润率，公司所处行业，公司所处地区等等），输出1797个结果（从0到9的十级分类），在这里我们将数字9代表损失类贷款，数字0到8代表非损失类贷款。模型将根据64个输入的特征来学习并最终分类为损失类贷款或非损失类贷款，这是一个典型的二分类监督学习问题。"
   ]
  },
  {
   "cell_type": "markdown",
   "metadata": {},
   "source": [
    "Simulation data: The input includes 1797 samples and each sample contains 64 features. The output involves ten discrete results. Number 9 represents non-performing loan and rest number means performing loan. The model will learn to make a classification whether the loan is performing or not depending on 64 features. This is binary classification supervised learning."
   ]
  },
  {
   "cell_type": "code",
   "execution_count": 1,
   "metadata": {},
   "outputs": [
    {
     "name": "stdout",
     "output_type": "stream",
     "text": [
      "input shape:(1797, 64)\n",
      "output:(1797,)\n",
      "    0    1    2     3     4     5    6    7    8    9   ...   54   55   56  \\\n",
      "0  0.0  0.0  5.0  13.0   9.0   1.0  0.0  0.0  0.0  0.0  ...  0.0  0.0  0.0   \n",
      "1  0.0  0.0  0.0  12.0  13.0   5.0  0.0  0.0  0.0  0.0  ...  0.0  0.0  0.0   \n",
      "2  0.0  0.0  0.0   4.0  15.0  12.0  0.0  0.0  0.0  0.0  ...  5.0  0.0  0.0   \n",
      "3  0.0  0.0  7.0  15.0  13.0   1.0  0.0  0.0  0.0  8.0  ...  9.0  0.0  0.0   \n",
      "4  0.0  0.0  0.0   1.0  11.0   0.0  0.0  0.0  0.0  0.0  ...  0.0  0.0  0.0   \n",
      "\n",
      "    57   58    59    60    61   62   63  \n",
      "0  0.0  6.0  13.0  10.0   0.0  0.0  0.0  \n",
      "1  0.0  0.0  11.0  16.0  10.0  0.0  0.0  \n",
      "2  0.0  0.0   3.0  11.0  16.0  9.0  0.0  \n",
      "3  0.0  7.0  13.0  13.0   9.0  0.0  0.0  \n",
      "4  0.0  0.0   2.0  16.0   4.0  0.0  0.0  \n",
      "\n",
      "[5 rows x 64 columns]\n",
      "3    183\n",
      "5    182\n",
      "1    182\n",
      "6    181\n",
      "4    181\n",
      "9    180\n",
      "7    179\n",
      "0    178\n",
      "2    177\n",
      "8    174\n",
      "Name: 0, dtype: int64\n"
     ]
    }
   ],
   "source": [
    "import pandas as pd\n",
    "from sklearn.datasets import load_digits\n",
    "digits=load_digits()\n",
    "print(\"input shape:\"+str(digits.data.shape))\n",
    "print(\"output:\"+str(digits.target.shape))\n",
    "input=pd.DataFrame(digits.data)\n",
    "print(input.head())\n",
    "output=pd.DataFrame(digits.target)\n",
    "print(output.iloc[:,0].value_counts())"
   ]
  },
  {
   "cell_type": "markdown",
   "metadata": {},
   "source": [
    "# 2.训练集,测试集划分(split of data set)"
   ]
  },
  {
   "cell_type": "markdown",
   "metadata": {},
   "source": [
    "我们不能将用于构建模型的数据用于评估模型，因为模型会记住整个构建模型用的数据集。我们要用新数据来评估模型的泛化性能。所以我们要将原始数据分为训练集(默认0.75)和测试集(默认0.25)两部分，训练集用于模型训练，测试集用于测试模型泛化性能。"
   ]
  },
  {
   "cell_type": "markdown",
   "metadata": {},
   "source": [
    "We can not use the data constructing the model to evaluate the model, because the model will remember the data used to establish the model. New data is necessary to estimate generalization performance of the model. We need to split original data into two parts, training set is used to train the model and test set is utilized to assess the model."
   ]
  },
  {
   "cell_type": "code",
   "execution_count": 2,
   "metadata": {},
   "outputs": [
    {
     "name": "stdout",
     "output_type": "stream",
     "text": [
      "training set shape:(1347, 64)\n",
      "test set shape:(450, 64)\n"
     ]
    }
   ],
   "source": [
    "y=digits.target==9\n",
    "from sklearn.model_selection import train_test_split\n",
    "x_train,x_test,y_train,y_test=train_test_split(digits.data,y,random_state=0,stratify=y)\n",
    "print(\"training set shape:\"+str(x_train.shape))\n",
    "print(\"test set shape:\"+str(x_test.shape))"
   ]
  },
  {
   "cell_type": "markdown",
   "metadata": {},
   "source": [
    "The training set includes 1347 samples."
   ]
  },
  {
   "cell_type": "markdown",
   "metadata": {},
   "source": [
    "The test set contains 450 samples."
   ]
  },
  {
   "cell_type": "markdown",
   "metadata": {},
   "source": [
    "# 3.训练，评估模型（train and evaluate the model）"
   ]
  },
  {
   "cell_type": "code",
   "execution_count": 3,
   "metadata": {},
   "outputs": [
    {
     "name": "stdout",
     "output_type": "stream",
     "text": [
      "logistic regression prediction accuracy score:0.9666666666666667\n"
     ]
    }
   ],
   "source": [
    "import warnings;warnings.simplefilter('ignore')\n",
    "#model(logistic regression)\n",
    "from sklearn.linear_model import LogisticRegression\n",
    "lr=LogisticRegression().fit(x_train,y_train)\n",
    "pred_lr=lr.predict(x_test)\n",
    "print(\"logistic regression prediction accuracy score:\"+str(lr.score(x_test,y_test)))"
   ]
  },
  {
   "cell_type": "markdown",
   "metadata": {},
   "source": [
    "以上我们使用逻辑回归算法进行模型训练，得到了不错的准确率。接下来我们将通过网格参数寻优，提高LogisticRegression算法的预测准确率。"
   ]
  },
  {
   "cell_type": "markdown",
   "metadata": {},
   "source": [
    "We take advantage of logistic regression algorithm to train the model and the accuracy of the prediction on the test set is good. We will try to raise the accuracy of the logistic regression with the help of grid search."
   ]
  },
  {
   "cell_type": "markdown",
   "metadata": {},
   "source": [
    "# 4.参数寻优(Grid research)"
   ]
  },
  {
   "cell_type": "code",
   "execution_count": 4,
   "metadata": {},
   "outputs": [
    {
     "name": "stdout",
     "output_type": "stream",
     "text": [
      "logistic regression prediction accuracy score:0.9733333333333334\n"
     ]
    }
   ],
   "source": [
    "#model (logistic regression)\n",
    "import numpy as np\n",
    "param_grid={'C':np.arange(0.01,2,0.01)}\n",
    "from sklearn.model_selection import GridSearchCV\n",
    "from sklearn.model_selection import train_test_split\n",
    "from sklearn.linear_model import LogisticRegression\n",
    "grid_search=GridSearchCV(LogisticRegression(),param_grid,cv=5)\n",
    "x_trainval, x_test, y_trainval, y_test = train_test_split(digits.data,y,random_state=0,stratify=y)\n",
    "grid_search.fit(x_trainval,y_trainval)\n",
    "print(\"logistic regression prediction accuracy score:\"+str(grid_search.score(x_test,y_test)))"
   ]
  },
  {
   "cell_type": "code",
   "execution_count": 5,
   "metadata": {},
   "outputs": [
    {
     "data": {
      "text/plain": [
       "LogisticRegression(C=0.09999999999999999, class_weight=None, dual=False,\n",
       "                   fit_intercept=True, intercept_scaling=1, l1_ratio=None,\n",
       "                   max_iter=100, multi_class='warn', n_jobs=None, penalty='l2',\n",
       "                   random_state=None, solver='warn', tol=0.0001, verbose=0,\n",
       "                   warm_start=False)"
      ]
     },
     "execution_count": 5,
     "metadata": {},
     "output_type": "execute_result"
    }
   ],
   "source": [
    "grid_search.best_estimator_"
   ]
  },
  {
   "cell_type": "markdown",
   "metadata": {},
   "source": [
    "通过参数寻优，预测准确率提高了，接下来我们将详细分析预测的结果。"
   ]
  },
  {
   "cell_type": "markdown",
   "metadata": {},
   "source": [
    "By the means of grid research, we raise the prediction accuracy of the test data set. Next, we will try to analysis the prediction result in details."
   ]
  },
  {
   "cell_type": "markdown",
   "metadata": {},
   "source": [
    "# 5.利用混淆矩阵，细分预测结果(analysis of prediction result)"
   ]
  },
  {
   "cell_type": "markdown",
   "metadata": {},
   "source": [
    "通过参数寻优，我们提高了LogisticRegression算法准确率。但在实际业务中，我们更关心损失类贷款是否被准确预测。在二分类问题中，我们通常将两种结果称为正类(positive class)和反类(negative class)，正类是我们要寻找的类。在这里损失类贷款是我们要寻找的类，称为正类，非损失类贷款为反类。对于二分类问题的评估结果，一种最全面地表示方法是使用混淆矩阵。输出的是个2*2的数组，其中行对应于真实的类别，列对应于预测的类别。"
   ]
  },
  {
   "cell_type": "markdown",
   "metadata": {},
   "source": [
    "We increase the accuracy of the logistic regression through grid search. In production environment, we pay more attention to non-performing loan that could be predicted correctly. In a binary classification question, two output results were named as positive class and negative class, the positive class is the outcome we want to be recognized with no fault. In this case, the non-performing loan is the positive class. The confusion matrix is a comprehensive description to the result of binary classification question. The output of confusion matrix is an array of 2*2, the row of it means actual class and the column of it represents predicted category."
   ]
  },
  {
   "cell_type": "code",
   "execution_count": 6,
   "metadata": {},
   "outputs": [
    {
     "name": "stdout",
     "output_type": "stream",
     "text": [
      "logistic regression:\n",
      "[[395  10]\n",
      " [  5  40]]\n"
     ]
    }
   ],
   "source": [
    "from sklearn.metrics import confusion_matrix\n",
    "print(\"logistic regression:\")\n",
    "print(confusion_matrix(y_test,pred_lr))"
   ]
  },
  {
   "cell_type": "code",
   "execution_count": 8,
   "metadata": {},
   "outputs": [
    {
     "data": {
      "image/png": "[encoded data removed]",
      "text/plain": [
       "<Figure size 432x288 with 1 Axes>"
      ]
     },
     "metadata": {
      "needs_background": "light"
     },
     "output_type": "display_data"
    }
   ],
   "source": [
    "import numpy as np\n",
    "import matplotlib\n",
    "import matplotlib.pyplot as plt\n",
    "\n",
    "vegetables = [\"true negative\", \"true positive\"]\n",
    "farmers = [\"predictive negative\", \"predictive positive\"]\n",
    "harvest=confusion_matrix(y_test,pred_lr)\n",
    "\n",
    "fig, ax = plt.subplots()\n",
    "im = ax.imshow(harvest)\n",
    "\n",
    "# We want to show all ticks...\n",
    "ax.set_xticks(np.arange(len(farmers)))\n",
    "ax.set_yticks(np.arange(len(vegetables)))\n",
    "# ... and label them with the respective list entries\n",
    "ax.set_xticklabels(farmers)\n",
    "ax.set_yticklabels(vegetables)\n",
    "\n",
    "# Rotate the tick labels and set their alignment.\n",
    "plt.setp(ax.get_xticklabels(), rotation=45, ha=\"right\",\n",
    "         rotation_mode=\"anchor\")\n",
    "\n",
    "# Loop over data dimensions and create text annotations.\n",
    "for i in range(len(vegetables)):\n",
    "    for j in range(len(farmers)):\n",
    "        text = ax.text(j, i, harvest[i, j],\n",
    "                       ha=\"center\", va=\"center\", color=\"w\",size=40)\n",
    "\n",
    "ax.set_title(\"confusion matrix\")\n",
    "plt.savefig('sample1.jpg',dpi=600,bbox_inches='tight')\n",
    "plt.show()"
   ]
  },
  {
   "cell_type": "markdown",
   "metadata": {},
   "source": [
    "### 40代表真正类个数true positive(TP)，5代表假反类个数false negative(FN)，10代表假正类个数false positive(FP)，395代表真反类个数true negative(TN)"
   ]
  },
  {
   "cell_type": "markdown",
   "metadata": {},
   "source": [
    "According to the picture of confusion matrix, Number 395, 10, 5, 40 represent true negative (TN), false positive (FP), false negative (FN) and true positive (TP) orderly."
   ]
  },
  {
   "cell_type": "markdown",
   "metadata": {},
   "source": [
    "# 6.调整决策阀值，平衡准确率和召回率(balance of precision ratio and recall ratio)"
   ]
  },
  {
   "cell_type": "markdown",
   "metadata": {},
   "source": [
    "我们发现在45个用于测试的正类中，logistic regression算法准确预测了其中40个正类，5个正类被错误的预测成了反类。但我们仍然希望能将这45个测试集中的正类全部正确预测，因为如果损失类贷款没有被正确预测，将会少计提贷款损失准备，给银行带来风险。此时我们可以修改模型中做出分类决策的阀值(threshold)。"
   ]
  },
  {
   "cell_type": "markdown",
   "metadata": {},
   "source": [
    "There are 45 positive classes in the test set. Logistic Regression predicted 40 positive classes correctly. However we expected that all positive classes could be recognized properly. Because when non-performing loan was regarded as performing loan, the bank will not withdraw enough loan loss reserve, which could bring risk. At this time, we try to modify the threshold used to make a classification decision in the model."
   ]
  },
  {
   "cell_type": "code",
   "execution_count": 9,
   "metadata": {},
   "outputs": [
    {
     "name": "stdout",
     "output_type": "stream",
     "text": [
      "logistic regression modified:\n",
      "[[225 180]\n",
      " [  0  45]]\n"
     ]
    }
   ],
   "source": [
    "y_pred_lower_threshold=pd.DataFrame(lr.predict_proba(x_test)>0.000000001)\n",
    "y_pred_lower=y_pred_lower_threshold.iloc[:,1]\n",
    "print(\"logistic regression modified:\")\n",
    "print(confusion_matrix(y_test,y_pred_lower))"
   ]
  },
  {
   "cell_type": "markdown",
   "metadata": {},
   "source": [
    "通过调整做出分类决策的阀值，我们可以使得45个测试集中的正类全部被正确预测，但假正类会大幅增加，也就是非损失类贷款被预测成了损失类贷款，这将会计提过多不必要的贷款损失准备，对银行资本的运用效率带来损失。为了平衡预测结果中假反类和假正类的数量，先引入两个概念，准确率和召回率。准确率(precision)度量的是被预测为正类的样本中有多少是真正的正类，precision=TP/(TP+FP)。召回率(recall)度量的是正类样本中有多少被预测为正类,recall=TP/(TP+FN)。"
   ]
  },
  {
   "cell_type": "markdown",
   "metadata": {},
   "source": [
    "By means of adjusting the threshold, all positive classes in the test set could be predicted correctly. However, the false positive(FP) will increased dramatically, which means performing loan was recognized as non-performing loan falsely and withdraw unnecessary loan loss reserve. In order to balancing the quantity of false negative and false positive, two concepts were introduced, precision and recall. Precision is the ratio of true positive divide by predicted positive. Recall is the ratio of true positive divide by positive class in test set."
   ]
  },
  {
   "cell_type": "code",
   "execution_count": 10,
   "metadata": {},
   "outputs": [
    {
     "data": {
      "text/plain": [
       "<matplotlib.legend.Legend at 0xd344290>"
      ]
     },
     "execution_count": 10,
     "metadata": {},
     "output_type": "execute_result"
    },
    {
     "data": {
      "image/png": "[encoded data removed]",
      "text/plain": [
       "<Figure size 432x288 with 1 Axes>"
      ]
     },
     "metadata": {
      "needs_background": "light"
     },
     "output_type": "display_data"
    }
   ],
   "source": [
    "from sklearn.metrics import precision_recall_curve\n",
    "precision, recall, thresholds = precision_recall_curve(\n",
    "    y_test, lr.predict_proba(x_test)[:,1])\n",
    "# find threshold closest to zero\n",
    "close_zero = np.argmin(np.abs(thresholds-0.5))\n",
    "plt.plot(precision[close_zero], recall[close_zero], 'o', markersize=10,\n",
    "         label=\"threshold 0.5\", fillstyle=\"none\", c='k', mew=2)\n",
    "plt.plot(precision, recall, label=\"precision recall curve\")\n",
    "plt.xlabel(\"Precision\")\n",
    "plt.ylabel(\"Recall\")\n",
    "plt.legend(loc=\"best\")"
   ]
  },
  {
   "cell_type": "markdown",
   "metadata": {},
   "source": [
    "开发新模型时，通常不完全清楚工作点（准确率和召回率的要求）在哪里，所以先同时查看所有可能的阀值或准确率和召回率的所有可能折中。圆圈代表默认阀值0.5时候的准确率和召回率。曲线从左上角开始，这里对应非常低的阀值，将所有样本都划为正类。提高阀值可以让曲线向准确率更高的方向移动，但同时召回率降低。继续增大阀值，大多数被划为正类的点都是真正类，此时准确率高，但召回率更低。随着准确率的升高，模型越能保持较高的召回率，则模型越好。"
   ]
  },
  {
   "cell_type": "markdown",
   "metadata": {},
   "source": [
    "When new model was developed, demand of precision and recall was unknown. We need to browse all possible threshold, precision and recall. The circle in the picture represents precision and recall when the threshold is 0.5. From upper left to lower right, the recall of the algorithm tends to be lower and the precision tend to become higher."
   ]
  },
  {
   "cell_type": "markdown",
   "metadata": {},
   "source": [
    "这里对于阀值的选择，取决于银行对假反类（损失类贷款未被正确预测）和假正类（非损失类贷款被错误预测为损失类贷款）的容忍度。"
   ]
  },
  {
   "cell_type": "markdown",
   "metadata": {},
   "source": [
    "The choice of threshold depends on the tolerance to false negative and false positive predicited by the model"
   ]
  },
  {
   "cell_type": "markdown",
   "metadata": {},
   "source": [
    " "
   ]
  },
  {
   "cell_type": "markdown",
   "metadata": {},
   "source": [
    " "
   ]
  },
  {
   "cell_type": "markdown",
   "metadata": {},
   "source": [
    "Two examples concern about the procedure of the machine learning rather than the mathematical principles behind the algorithm. The first example pay more attention to the analysis of the prediction result. The second one will focus on the feature engineering of input feature."
   ]
  },
  {
   "cell_type": "markdown",
   "metadata": {},
   "source": []
  }
 ],
 "metadata": {
  "kernelspec": {
   "display_name": "Python 3",
   "language": "python",
   "name": "python3"
  },
  "language_info": {
   "codemirror_mode": {
    "name": "ipython",
    "version": 3
   },
   "file_extension": ".py",
   "mimetype": "text/x-python",
   "name": "python",
   "nbconvert_exporter": "python",
   "pygments_lexer": "ipython3",
   "version": "3.7.3"
  }
 },
 "nbformat": 4,
 "nbformat_minor": 1
}
